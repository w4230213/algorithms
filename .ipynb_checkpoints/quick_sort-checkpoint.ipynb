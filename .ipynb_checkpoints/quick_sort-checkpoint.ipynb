{
 "cells": [
  {
   "cell_type": "code",
   "execution_count": null,
   "metadata": {},
   "outputs": [],
   "source": [
    "import import_ipynb\n",
    "from shell_sort import Algo\n",
    "import numpy as np"
   ]
  },
  {
   "cell_type": "code",
   "execution_count": 3,
   "metadata": {},
   "outputs": [],
   "source": [
    "class QuickSort(Algo):\n",
    "    \n",
    "    def sort(self):\n",
    "        np.random.shuffle(self.arr)\n",
    "        self._sort(self.arr,0, len(self.arr)-1)\n",
    "        \n",
    "    def _sort(self, a, lo, hi):\n",
    "        if hi <= lo:\n",
    "            return\n",
    "        j = self.partition(a, lo, hi)\n",
    "        self._sort(a, lo, j-1)\n",
    "        self._sort(a, j+1, hi)\n",
    "    \n",
    "    def partition(self,a, lo, hi):\n",
    "        i, j = lo+1, hi\n",
    "        v = a[lo]\n",
    "        print('this turn --> {}'.format(v))\n",
    "        while True:\n",
    "            while self.less(a[i], v):\n",
    "                i += 1\n",
    "                if i == hi:\n",
    "                    print('i reached j')\n",
    "                    break\n",
    "            while self.less(v, a[j]):\n",
    "                j -= 1\n",
    "                if j == lo:\n",
    "                    print('j reached i')\n",
    "                    break\n",
    "            print('i--->{}:{}, j--->{}:{}'.format(i, a[i], j, a[j]))\n",
    "            if i >= j:\n",
    "                break\n",
    "            self.exch(a, i, j)\n",
    "        self.exch(a, lo, j)\n",
    "        print('place v:{} @ idx {}'.format(v, j))\n",
    "        return j"
   ]
  },
  {
   "cell_type": "code",
   "execution_count": 4,
   "metadata": {},
   "outputs": [
    {
     "data": {
      "text/plain": [
       "array([ 0, 14,  9, 19, 15, 10, 17,  7,  2, 11, 16,  1,  5,  8, 13,  6,  3,\n",
       "       12, 18,  4])"
      ]
     },
     "execution_count": 4,
     "metadata": {},
     "output_type": "execute_result"
    }
   ],
   "source": [
    "a = np.arange(20)\n",
    "np.random.shuffle(a)\n",
    "a"
   ]
  },
  {
   "cell_type": "code",
   "execution_count": 5,
   "metadata": {},
   "outputs": [],
   "source": [
    "qsort = QuickSort(a)"
   ]
  },
  {
   "cell_type": "code",
   "execution_count": 6,
   "metadata": {},
   "outputs": [
    {
     "name": "stdout",
     "output_type": "stream",
     "text": [
      "this turn --> 0\n",
      "j reached i\n",
      "i--->1:6, j--->0:0\n",
      "place v:0 @ idx 0\n",
      "this turn --> 6\n",
      "i--->2:13, j--->19:5\n",
      "i--->4:16, j--->12:2\n",
      "i--->5:8, j--->7:1\n",
      "i--->7:8, j--->6:3\n",
      "place v:6 @ idx 6\n",
      "this turn --> 3\n",
      "i--->2:5, j--->5:1\n",
      "i--->3:4, j--->4:2\n",
      "i--->4:4, j--->3:2\n",
      "place v:3 @ idx 3\n",
      "this turn --> 2\n",
      "i--->3:3, j--->2:1\n",
      "place v:2 @ idx 2\n",
      "this turn --> 4\n",
      "j reached i\n",
      "i--->5:5, j--->4:4\n",
      "place v:4 @ idx 4\n",
      "this turn --> 8\n",
      "i--->8:12, j--->16:7\n",
      "i--->9:19, j--->8:7\n",
      "place v:8 @ idx 8\n",
      "this turn --> 19\n",
      "i reached j\n",
      "i--->19:13, j--->19:13\n",
      "place v:19 @ idx 19\n",
      "this turn --> 13\n",
      "i--->11:17, j--->18:11\n",
      "i--->12:16, j--->16:12\n",
      "i--->13:14, j--->15:10\n",
      "i--->14:18, j--->13:10\n",
      "place v:13 @ idx 13\n",
      "this turn --> 10\n",
      "i--->11:11, j--->10:9\n",
      "place v:10 @ idx 10\n",
      "this turn --> 11\n",
      "j reached i\n",
      "i--->12:12, j--->11:11\n",
      "place v:11 @ idx 11\n",
      "this turn --> 18\n",
      "i reached j\n",
      "i--->18:17, j--->18:17\n",
      "place v:18 @ idx 18\n",
      "this turn --> 17\n",
      "i reached j\n",
      "i--->17:15, j--->17:15\n",
      "place v:17 @ idx 17\n",
      "this turn --> 15\n",
      "i reached j\n",
      "i--->16:16, j--->15:14\n",
      "place v:15 @ idx 15\n"
     ]
    }
   ],
   "source": [
    "qsort.sort()"
   ]
  },
  {
   "cell_type": "code",
   "execution_count": 43,
   "metadata": {},
   "outputs": [
    {
     "data": {
      "text/plain": [
       "[0, 1, 2, 3, 4, 5, 6, 7, 8, 9, 10, 11, 12, 13, 14, 15, 16, 17, 18, 19]"
      ]
     },
     "execution_count": 43,
     "metadata": {},
     "output_type": "execute_result"
    }
   ],
   "source": [
    "qsort.arr"
   ]
  }
 ],
 "metadata": {
  "kernelspec": {
   "display_name": "Python [conda env:tf37] *",
   "language": "python",
   "name": "conda-env-tf37-py"
  },
  "language_info": {
   "codemirror_mode": {
    "name": "ipython",
    "version": 3
   },
   "file_extension": ".py",
   "mimetype": "text/x-python",
   "name": "python",
   "nbconvert_exporter": "python",
   "pygments_lexer": "ipython3",
   "version": "3.6.9"
  }
 },
 "nbformat": 4,
 "nbformat_minor": 4
}
