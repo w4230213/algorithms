{
 "cells": [
  {
   "cell_type": "code",
   "execution_count": 4,
   "metadata": {},
   "outputs": [],
   "source": [
    "import import_ipynb\n",
    "import queue"
   ]
  },
  {
   "cell_type": "code",
   "execution_count": 7,
   "metadata": {},
   "outputs": [],
   "source": [
    "from graph import Graph, Vertex"
   ]
  },
  {
   "cell_type": "code",
   "execution_count": 6,
   "metadata": {},
   "outputs": [],
   "source": [
    "def buidGraph(wordFile):\n",
    "    d = {}\n",
    "    g = Graph()\n",
    "    with open(wordFile, 'r') as f:\n",
    "        for line in f:\n",
    "            word = line[:-1]\n",
    "            for i in range(len(word)):\n",
    "                bucket = word[:i] + '_' + word[i+1:]\n",
    "                if bucket in d:\n",
    "                    d[bucket].append(word)\n",
    "                else:\n",
    "                    d[bucket] = [word]\n",
    "    for bucket in d.keys():\n",
    "        for w1 in d[bucket]:\n",
    "            for w2 in d[bucket]:\n",
    "                if w1 != w2:\n",
    "                    g.addEdge(w1, w2)\n",
    "    return g"
   ]
  },
  {
   "cell_type": "code",
   "execution_count": 8,
   "metadata": {},
   "outputs": [],
   "source": [
    "def bfs(g, start):\n",
    "    start.setDistance(start, 0)\n",
    "    start.serPred(None)\n",
    "    vertQ = queue.Queue()\n",
    "    vertQ.enqueue(start)\n",
    "    while vertQ.size() > 0:\n",
    "        currentVert = vertQ.dequeue()\n",
    "        for nbr in currentVert.getConnections():\n",
    "            if (nbr.getColor() == 'white'):\n",
    "                nbr.setColor('gray')\n",
    "                nbr.setDistance(start, currentVert.getDistance()+1)\n",
    "                nbr.setPred(currentVert)\n",
    "                vertQ.enqueue(nbr)\n",
    "        currentVert.setColor('black')"
   ]
  },
  {
   "cell_type": "code",
   "execution_count": null,
   "metadata": {},
   "outputs": [],
   "source": []
  }
 ],
 "metadata": {
  "kernelspec": {
   "display_name": "Python [conda env:py36] *",
   "language": "python",
   "name": "conda-env-py36-py"
  },
  "language_info": {
   "codemirror_mode": {
    "name": "ipython",
    "version": 3
   },
   "file_extension": ".py",
   "mimetype": "text/x-python",
   "name": "python",
   "nbconvert_exporter": "python",
   "pygments_lexer": "ipython3",
   "version": "3.6.7"
  }
 },
 "nbformat": 4,
 "nbformat_minor": 4
}
