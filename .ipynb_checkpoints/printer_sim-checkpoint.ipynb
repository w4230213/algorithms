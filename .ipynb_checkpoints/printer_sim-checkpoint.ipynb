{
 "cells": [
  {
   "cell_type": "code",
   "execution_count": 1,
   "metadata": {},
   "outputs": [],
   "source": [
    "import random\n",
    "import math\n",
    "from queue import Queue\n",
    "from time import time"
   ]
  },
  {
   "cell_type": "code",
   "execution_count": 2,
   "metadata": {},
   "outputs": [],
   "source": [
    "class Printer:\n",
    "    \n",
    "    def __init__(self, ppm):\n",
    "        self.ppm = ppm\n",
    "        self.currentTask = None\n",
    "        self.timeReamining = 0\n",
    "        \n",
    "    def tick(self):\n",
    "        if self.currentTask is not None:\n",
    "            self.timeReamining -= 1\n",
    "            if self.timeReamining <= 0:\n",
    "                self.currentTask = None\n",
    "                \n",
    "    def busy(self):\n",
    "        return self.currentTask is not None\n",
    "    \n",
    "    def startNext(self, newtask):\n",
    "        self.currentTask = newtask\n",
    "        self.timeReamining = newtask.getPages() / (self.ppm / 60) "
   ]
  },
  {
   "cell_type": "code",
   "execution_count": 3,
   "metadata": {},
   "outputs": [],
   "source": [
    "class Task:\n",
    "    \n",
    "    def __init__(self, currenttime):\n",
    "        self.timestamp = currenttime\n",
    "        self.pages = random.randrange(1,21)\n",
    "    \n",
    "    def getPages(self):\n",
    "        return self.pages\n",
    "    \n",
    "    def getTimestamp(self):\n",
    "        return self.timestamp\n",
    "    \n",
    "    def waittingTime(self, currentTime):\n",
    "        return currentTime - self.timestamp"
   ]
  },
  {
   "cell_type": "code",
   "execution_count": 4,
   "metadata": {},
   "outputs": [],
   "source": [
    "def newPrintTask():\n",
    "    num = random.randrange(1,181)\n",
    "    return num == 5"
   ]
  },
  {
   "cell_type": "code",
   "execution_count": 5,
   "metadata": {},
   "outputs": [],
   "source": [
    "def simulate(timeRange, ppm):\n",
    "    printer = Printer(ppm)\n",
    "    taskq = Queue()\n",
    "    wattingTimes = []\n",
    "    \n",
    "    for sec in range(timeRange):\n",
    "        if newPrintTask():\n",
    "            newTask = Task(sec)\n",
    "            taskq.put(newTask)\n",
    "        if not printer.busy() and not taskq.empty():\n",
    "            task = taskq.get()\n",
    "            wattingTimes.append(task.waittingTime(sec))\n",
    "            printer.startNext(task)\n",
    "        printer.tick()\n",
    "    average_waitting_time = sum(wattingTimes) / len(wattingTimes)\n",
    "    remain_tasks = taskq.qsize()\n",
    "    print('Average watting time : {:.6f}, and there are {} tasks remaining...'.format(average_waitting_time, remain_tasks))\n",
    "    return wattingTimes"
   ]
  },
  {
   "cell_type": "code",
   "execution_count": 6,
   "metadata": {},
   "outputs": [
    {
     "name": "stdout",
     "output_type": "stream",
     "text": [
      "Average watting time : 4.470588, and there are 0 tasks remaining...\n",
      "Average watting time : 18.285714, and there are 0 tasks remaining...\n",
      "Average watting time : 10.652174, and there are 0 tasks remaining...\n",
      "Average watting time : 2.769231, and there are 0 tasks remaining...\n",
      "Average watting time : 23.714286, and there are 0 tasks remaining...\n",
      "Average watting time : 9.714286, and there are 1 tasks remaining...\n",
      "Average watting time : 4.733333, and there are 0 tasks remaining...\n",
      "Average watting time : 27.468750, and there are 0 tasks remaining...\n",
      "Average watting time : 0.214286, and there are 0 tasks remaining...\n",
      "Average watting time : 20.062500, and there are 0 tasks remaining...\n",
      "Average watting time : 18.000000, and there are 0 tasks remaining...\n",
      "Average watting time : 25.857143, and there are 1 tasks remaining...\n",
      "Average watting time : 20.782609, and there are 0 tasks remaining...\n",
      "Average watting time : 0.000000, and there are 0 tasks remaining...\n",
      "Average watting time : 39.800000, and there are 0 tasks remaining...\n",
      "Average watting time : 12.000000, and there are 0 tasks remaining...\n",
      "Average watting time : 5.100000, and there are 0 tasks remaining...\n",
      "Average watting time : 18.586207, and there are 1 tasks remaining...\n",
      "Average watting time : 7.888889, and there are 0 tasks remaining...\n",
      "Average watting time : 21.105263, and there are 0 tasks remaining...\n",
      "Summary: Average waitting time ---> 16.305556 seconds\n"
     ]
    }
   ],
   "source": [
    "summary = []\n",
    "for i in range(20):\n",
    "    wattingtime = simulate(3600, 10)\n",
    "    summary.extend(wattingtime)\n",
    "print('Summary: Average waitting time ---> {:.6f} seconds'.format(sum(summary) / len(summary)))"
   ]
  }
 ],
 "metadata": {
  "kernelspec": {
   "display_name": "Python [conda env:tf37] *",
   "language": "python",
   "name": "conda-env-tf37-py"
  },
  "language_info": {
   "codemirror_mode": {
    "name": "ipython",
    "version": 3
   },
   "file_extension": ".py",
   "mimetype": "text/x-python",
   "name": "python",
   "nbconvert_exporter": "python",
   "pygments_lexer": "ipython3",
   "version": "3.6.9"
  }
 },
 "nbformat": 4,
 "nbformat_minor": 4
}
