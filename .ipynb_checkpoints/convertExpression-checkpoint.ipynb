{
 "cells": [
  {
   "cell_type": "code",
   "execution_count": 14,
   "metadata": {},
   "outputs": [],
   "source": [
    "def converEx(exp):\n",
    "    pri = {}\n",
    "    pri['*'] = 3\n",
    "    pri['/'] = 3\n",
    "    pri['+'] = 2\n",
    "    pri['-'] = 2\n",
    "    pri['('] = 1\n",
    "    \n",
    "    postfix_exp = []\n",
    "    opstack = []\n",
    "    for token in exp:\n",
    "        if token in '0123456789abcdefg':\n",
    "            postfix_exp.append(token)\n",
    "        elif token == '(':\n",
    "            opstack.append(token)\n",
    "        elif token == ')':\n",
    "            topOp = opstack.pop()\n",
    "            while topOp != '(':\n",
    "                postfix_exp.append(topOp)\n",
    "                topOp = opstack.pop()\n",
    "        else:\n",
    "            topOp = opstack[-1]\n",
    "            if pri[token] <= pri[topOp]:\n",
    "                postfix_exp.append(opstack.pop())\n",
    "                opstack.append(token)\n",
    "            else:\n",
    "                opstack.append(token)\n",
    "    while postfix_exp:\n",
    "        return ''.join(postfix_exp)\n",
    "                "
   ]
  },
  {
   "cell_type": "code",
   "execution_count": 15,
   "metadata": {},
   "outputs": [
    {
     "data": {
      "text/plain": [
       "'ab+c*d/'"
      ]
     },
     "execution_count": 15,
     "metadata": {},
     "output_type": "execute_result"
    }
   ],
   "source": [
    "converEx('(((a+b)*c/d))')"
   ]
  },
  {
   "cell_type": "code",
   "execution_count": 16,
   "metadata": {},
   "outputs": [
    {
     "data": {
      "text/plain": [
       "['12+67/22']"
      ]
     },
     "execution_count": 16,
     "metadata": {},
     "output_type": "execute_result"
    }
   ],
   "source": [
    "'12+67/22'.split()"
   ]
  }
 ],
 "metadata": {
  "kernelspec": {
   "display_name": "Python [conda env:py36] *",
   "language": "python",
   "name": "conda-env-py36-py"
  },
  "language_info": {
   "codemirror_mode": {
    "name": "ipython",
    "version": 3
   },
   "file_extension": ".py",
   "mimetype": "text/x-python",
   "name": "python",
   "nbconvert_exporter": "python",
   "pygments_lexer": "ipython3",
   "version": "3.6.7"
  }
 },
 "nbformat": 4,
 "nbformat_minor": 4
}
