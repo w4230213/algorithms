{
 "cells": [
  {
   "cell_type": "code",
   "execution_count": 4,
   "metadata": {},
   "outputs": [],
   "source": [
    "def bubbleSort(arr):\n",
    "    if not arr:\n",
    "        return \n",
    "    for p in range(0,len(arr)-1):\n",
    "        for i in range(len(arr)-1-p):\n",
    "            if arr[i] > arr[i+1]:\n",
    "                arr[i], arr[i+1] = arr[i+1], arr[i]"
   ]
  },
  {
   "cell_type": "code",
   "execution_count": 34,
   "metadata": {},
   "outputs": [],
   "source": [
    "arr = [54,26,93,16,22,31,44,55,20]"
   ]
  },
  {
   "cell_type": "code",
   "execution_count": 6,
   "metadata": {},
   "outputs": [
    {
     "name": "stdout",
     "output_type": "stream",
     "text": [
      "[16, 20, 22, 26, 31, 44, 54, 55, 93]\n"
     ]
    }
   ],
   "source": [
    "bubbleSort(arr)\n",
    "print(arr)"
   ]
  },
  {
   "cell_type": "code",
   "execution_count": 29,
   "metadata": {},
   "outputs": [],
   "source": [
    "def selectSort(arr):\n",
    "    if not arr:\n",
    "        return\n",
    "    for p in range(0, len(arr)-1):\n",
    "        maxPos = 0\n",
    "        for i in range(1, len(arr)-p):\n",
    "            if arr[maxPos] < arr[i]:\n",
    "                maxPos = i\n",
    "        arr[maxPos], arr[len(arr)-p-1] = arr[len(arr)-p-1], arr[maxPos]"
   ]
  },
  {
   "cell_type": "code",
   "execution_count": 33,
   "metadata": {},
   "outputs": [],
   "source": [
    "def selectSort2(arr):\n",
    "    if not arr:\n",
    "        return\n",
    "    for p in range(len(arr)-1, 0, -1):\n",
    "        maxPos = 0\n",
    "        for i in range(1, p+1):\n",
    "            if arr[maxPos] < arr[i]:\n",
    "                maxPos = i\n",
    "        arr[maxPos], arr[p] = arr[p], arr[maxPos]"
   ]
  },
  {
   "cell_type": "code",
   "execution_count": 35,
   "metadata": {},
   "outputs": [
    {
     "name": "stdout",
     "output_type": "stream",
     "text": [
      "[16, 20, 22, 26, 31, 44, 54, 55, 93]\n"
     ]
    }
   ],
   "source": [
    "selectSort2(arr)\n",
    "print(arr)"
   ]
  },
  {
   "cell_type": "code",
   "execution_count": null,
   "metadata": {},
   "outputs": [],
   "source": []
  }
 ],
 "metadata": {
  "kernelspec": {
   "display_name": "Python [conda env:py36] *",
   "language": "python",
   "name": "conda-env-py36-py"
  },
  "language_info": {
   "codemirror_mode": {
    "name": "ipython",
    "version": 3
   },
   "file_extension": ".py",
   "mimetype": "text/x-python",
   "name": "python",
   "nbconvert_exporter": "python",
   "pygments_lexer": "ipython3",
   "version": "3.6.7"
  }
 },
 "nbformat": 4,
 "nbformat_minor": 4
}
