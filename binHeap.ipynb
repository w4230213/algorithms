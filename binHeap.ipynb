{
 "cells": [
  {
   "cell_type": "code",
   "execution_count": 17,
   "metadata": {},
   "outputs": [],
   "source": [
    "import numpy as np"
   ]
  },
  {
   "cell_type": "code",
   "execution_count": 78,
   "metadata": {},
   "outputs": [],
   "source": [
    "class BinHeap:\n",
    "    def __init__(self):\n",
    "        self.heapList= [0]\n",
    "        self.currentSize = 0\n",
    "    def insert(self, k):\n",
    "        self.heapList.append(k)\n",
    "        self.currentSize += 1\n",
    "        self.percUp(self.currentSize)\n",
    "    def percUp(self, i):\n",
    "        stop = False\n",
    "        while i > 0 and not stop:\n",
    "            if self.heapList[i] < self.heapList[i // 2]:\n",
    "                self.heapList[i//2], self.heapList[i] = self.heapList[i], self.heapList[i//2]\n",
    "            else:\n",
    "                stop = True\n",
    "            i = i // 2\n",
    "    def delMin(self):\n",
    "        heapTop = self.heapList[1]\n",
    "        self.heapList[1] = self.heapList[-1]\n",
    "        self.currentSize -= 1\n",
    "        self.heapList.pop()\n",
    "        self.percDown(1)\n",
    "        return heapTop\n",
    "    def percDown(self, i):\n",
    "        stop = False\n",
    "        while i * 2 <= self.currentSize and not stop:\n",
    "            mc = self.minChild(i)\n",
    "            if self.heapList[i] > self.heapList[mc]:\n",
    "                self.heapList[i], self.heapList[mc] = self.heapList[mc], self.heapList[i]\n",
    "                i = mc\n",
    "            else:\n",
    "                stop = True\n",
    "    def minChild(self, i):\n",
    "        if i * 2 + 1 > self.currentSize:  # Node i只有一个子节点(左)\n",
    "            return i * 2\n",
    "        elif self.heapList[i*2] < self.heapList[i*2+1]:\n",
    "            return i*2\n",
    "        else:\n",
    "            return i*2+1\n",
    "    def buildHeap(self, lst):\n",
    "        i = len(lst)\n",
    "        self.currentSize = i\n",
    "        i = i // 2\n",
    "        self.heapList = [0] + lst[:]\n",
    "        # print(self.heapList, len(self.heapList), i)\n",
    "        while i > 0:\n",
    "            # print(self.heapList, i)\n",
    "            self.percDown(i)\n",
    "            i -= 1\n",
    "        # print(self.heapList, i)\n",
    "        return self.heapList"
   ]
  },
  {
   "cell_type": "code",
   "execution_count": 79,
   "metadata": {},
   "outputs": [],
   "source": [
    "lst = np.random.randint(1,20,16)\n",
    "lst = list(lst)"
   ]
  },
  {
   "cell_type": "code",
   "execution_count": 59,
   "metadata": {},
   "outputs": [],
   "source": [
    "bh = BinHeap()"
   ]
  },
  {
   "cell_type": "code",
   "execution_count": 60,
   "metadata": {},
   "outputs": [
    {
     "name": "stdout",
     "output_type": "stream",
     "text": [
      "[0, 18, 17, 2, 10, 6, 14, 9, 5, 7, 2, 9, 18, 1, 16, 17, 4] 17 8\n",
      "[0, 18, 17, 2, 10, 6, 14, 9, 5, 7, 2, 9, 18, 1, 16, 17, 4] 8\n",
      "[0, 18, 17, 2, 10, 6, 14, 9, 4, 7, 2, 9, 18, 1, 16, 17, 5] 7\n",
      "[0, 18, 17, 2, 10, 6, 14, 9, 4, 7, 2, 9, 18, 1, 16, 17, 5] 6\n",
      "[0, 18, 17, 2, 10, 6, 1, 9, 4, 7, 2, 9, 18, 14, 16, 17, 5] 5\n",
      "[0, 18, 17, 2, 10, 2, 1, 9, 4, 7, 6, 9, 18, 14, 16, 17, 5] 4\n",
      "[0, 18, 17, 2, 4, 2, 1, 9, 5, 7, 6, 9, 18, 14, 16, 17, 10] 3\n",
      "[0, 18, 17, 1, 4, 2, 2, 9, 5, 7, 6, 9, 18, 14, 16, 17, 10] 2\n",
      "[0, 18, 2, 1, 4, 6, 2, 9, 5, 7, 17, 9, 18, 14, 16, 17, 10] 1\n",
      "[0, 1, 2, 2, 4, 6, 14, 9, 5, 7, 17, 9, 18, 18, 16, 17, 10] 0\n"
     ]
    },
    {
     "data": {
      "text/plain": [
       "[0, 1, 2, 2, 4, 6, 14, 9, 5, 7, 17, 9, 18, 18, 16, 17, 10]"
      ]
     },
     "execution_count": 60,
     "metadata": {},
     "output_type": "execute_result"
    }
   ],
   "source": [
    "bh.buildHeap(lst)"
   ]
  },
  {
   "cell_type": "code",
   "execution_count": 80,
   "metadata": {},
   "outputs": [],
   "source": [
    "def binHeapSort(lst):\n",
    "    assert isinstance(lst,list), 'Unvalid lst type'\n",
    "    bh = BinHeap()\n",
    "    bh.buildHeap(lst)\n",
    "    #i = bh.currentSize\n",
    "    sortedList = []\n",
    "    while bh.currentSize > 0:\n",
    "        sortedList.append(bh.delMin())\n",
    "    print(sortedList)"
   ]
  },
  {
   "cell_type": "code",
   "execution_count": 81,
   "metadata": {},
   "outputs": [
    {
     "name": "stdout",
     "output_type": "stream",
     "text": [
      "[2, 2, 6, 6, 9, 9, 11, 11, 11, 12, 13, 14, 15, 16, 17, 19]\n"
     ]
    }
   ],
   "source": [
    "binHeapSort(lst)"
   ]
  },
  {
   "cell_type": "code",
   "execution_count": 82,
   "metadata": {},
   "outputs": [
    {
     "data": {
      "text/plain": [
       "[6, 2, 17, 14, 2, 11, 19, 11, 6, 11, 9, 13, 16, 9, 12, 15]"
      ]
     },
     "execution_count": 82,
     "metadata": {},
     "output_type": "execute_result"
    }
   ],
   "source": [
    "lst"
   ]
  }
 ],
 "metadata": {
  "kernelspec": {
   "display_name": "Python [conda env:tf37] *",
   "language": "python",
   "name": "conda-env-tf37-py"
  },
  "language_info": {
   "codemirror_mode": {
    "name": "ipython",
    "version": 3
   },
   "file_extension": ".py",
   "mimetype": "text/x-python",
   "name": "python",
   "nbconvert_exporter": "python",
   "pygments_lexer": "ipython3",
   "version": "3.6.9"
  }
 },
 "nbformat": 4,
 "nbformat_minor": 4
}
