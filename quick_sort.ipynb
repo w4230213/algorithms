{
 "cells": [
  {
   "cell_type": "code",
   "execution_count": 10,
   "metadata": {},
   "outputs": [],
   "source": [
    "import import_ipynb\n",
    "from shell_sort import Algo\n",
    "import numpy as np"
   ]
  },
  {
   "cell_type": "code",
   "execution_count": 44,
   "metadata": {},
   "outputs": [],
   "source": [
    "class QuickSort(Algo):\n",
    "    \n",
    "    def sort(self):\n",
    "        np.random.shuffle(self.arr)\n",
    "        self._sort(self.arr,0, len(self.arr)-1)\n",
    "        \n",
    "    def _sort(self, a, lo, hi):\n",
    "        if hi <= lo:\n",
    "            return\n",
    "        j = self.partition(a, lo, hi)\n",
    "        self._sort(a, lo, j-1)\n",
    "        self._sort(a, j+1, hi)\n",
    "    \n",
    "    def partition(self,a, lo, hi):\n",
    "        i, j = lo+1, hi\n",
    "        v = a[lo]\n",
    "        print('this turn --> {}'.format(v))\n",
    "        while True:\n",
    "            while self.less(a[i], v):\n",
    "                i += 1\n",
    "                if i == hi:\n",
    "                    print('i reached j')\n",
    "                    break\n",
    "            while self.less(v, a[j]):\n",
    "                j -= 1\n",
    "                if j == lo:\n",
    "                    print('j reached i')\n",
    "                    break\n",
    "            print('i--->{}:{}, j--->{}:{}'.format(i, a[i], j, a[j]))\n",
    "            if i >= j:\n",
    "                break\n",
    "            self.exch(a, i, j)\n",
    "        self.exch(a, lo, j)\n",
    "        print('place v:{} @ idx {}'.format(v, j))\n",
    "        return j"
   ]
  },
  {
   "cell_type": "code",
   "execution_count": 45,
   "metadata": {},
   "outputs": [
    {
     "data": {
      "text/plain": [
       "array([ 7,  0,  8, 10,  3,  2, 12, 11, 15,  5, 19, 16, 17, 13,  6,  1, 18,\n",
       "        4, 14,  9])"
      ]
     },
     "execution_count": 45,
     "metadata": {},
     "output_type": "execute_result"
    }
   ],
   "source": [
    "a = np.arange(20)\n",
    "np.random.shuffle(a)\n",
    "a"
   ]
  },
  {
   "cell_type": "code",
   "execution_count": 46,
   "metadata": {},
   "outputs": [],
   "source": [
    "qsort = QuickSort(a)"
   ]
  },
  {
   "cell_type": "code",
   "execution_count": 47,
   "metadata": {},
   "outputs": [
    {
     "name": "stdout",
     "output_type": "stream",
     "text": [
      "this turn --> 6\n",
      "i--->1:17, j--->18:0\n",
      "i--->2:12, j--->16:5\n",
      "i--->3:10, j--->15:4\n",
      "i--->5:19, j--->11:3\n",
      "i--->6:11, j--->10:1\n",
      "i--->7:13, j--->6:1\n",
      "place v:6 @ idx 6\n",
      "this turn --> 1\n",
      "i--->2:5, j--->1:0\n",
      "place v:1 @ idx 1\n",
      "this turn --> 5\n",
      "i reached j\n",
      "i--->5:3, j--->5:3\n",
      "place v:5 @ idx 5\n",
      "this turn --> 3\n",
      "i--->3:4, j--->4:2\n",
      "i reached j\n",
      "i--->4:4, j--->3:2\n",
      "place v:3 @ idx 3\n",
      "this turn --> 13\n",
      "i--->9:18, j--->17:7\n",
      "i--->11:19, j--->16:12\n",
      "i--->12:14, j--->15:10\n",
      "i--->13:15, j--->14:8\n",
      "i--->14:15, j--->13:8\n",
      "place v:13 @ idx 13\n",
      "this turn --> 8\n",
      "i--->8:9, j--->9:7\n",
      "i--->9:9, j--->8:7\n",
      "place v:8 @ idx 8\n",
      "this turn --> 9\n",
      "j reached i\n",
      "i--->10:11, j--->9:9\n",
      "place v:9 @ idx 9\n",
      "this turn --> 11\n",
      "i--->11:12, j--->12:10\n",
      "i reached j\n",
      "i--->12:12, j--->11:10\n",
      "place v:11 @ idx 11\n",
      "this turn --> 15\n",
      "i--->16:19, j--->15:14\n",
      "place v:15 @ idx 15\n",
      "this turn --> 19\n",
      "i reached j\n",
      "i--->19:16, j--->19:16\n",
      "place v:19 @ idx 19\n",
      "this turn --> 16\n",
      "j reached i\n",
      "i--->17:18, j--->16:16\n",
      "place v:16 @ idx 16\n",
      "this turn --> 18\n",
      "i--->19:19, j--->18:17\n",
      "place v:18 @ idx 18\n"
     ]
    }
   ],
   "source": [
    "qsort.sort()"
   ]
  },
  {
   "cell_type": "code",
   "execution_count": 43,
   "metadata": {},
   "outputs": [
    {
     "data": {
      "text/plain": [
       "[0, 1, 2, 3, 4, 5, 6, 7, 8, 9, 10, 11, 12, 13, 14, 15, 16, 17, 18, 19]"
      ]
     },
     "execution_count": 43,
     "metadata": {},
     "output_type": "execute_result"
    }
   ],
   "source": [
    "qsort.arr"
   ]
  }
 ],
 "metadata": {
  "kernelspec": {
   "display_name": "Python [conda env:py36] *",
   "language": "python",
   "name": "conda-env-py36-py"
  },
  "language_info": {
   "codemirror_mode": {
    "name": "ipython",
    "version": 3
   },
   "file_extension": ".py",
   "mimetype": "text/x-python",
   "name": "python",
   "nbconvert_exporter": "python",
   "pygments_lexer": "ipython3",
   "version": "3.6.7"
  }
 },
 "nbformat": 4,
 "nbformat_minor": 4
}
