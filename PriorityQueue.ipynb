{
 "cells": [
  {
   "cell_type": "code",
   "execution_count": 1,
   "metadata": {},
   "outputs": [
    {
     "name": "stdout",
     "output_type": "stream",
     "text": [
      "importing Jupyter notebook from shell_sort.ipynb\n",
      ">> h = 13\n",
      "['P', 'H', 'E', 'L', 'L', 'S', 'O', 'R', 'T', 'E', 'X', 'A', 'M', 'S', 'L', 'E']\n",
      ">> h = 4\n",
      "['L', 'E', 'E', 'A', 'M', 'H', 'L', 'E', 'P', 'S', 'O', 'L', 'T', 'S', 'X', 'R']\n",
      ">> h = 1\n",
      "['A', 'E', 'E', 'E', 'H', 'L', 'L', 'L', 'M', 'O', 'P', 'R', 'S', 'S', 'T', 'X']\n",
      "processing-->0~15\n",
      "processing-->0~7\n",
      "processing-->0~3\n",
      "processing-->0~1\n",
      "processing-->2~3\n",
      "processing-->4~7\n",
      "processing-->4~5\n",
      "processing-->6~7\n",
      "processing-->8~15\n",
      "processing-->8~11\n",
      "processing-->8~9\n",
      "processing-->10~11\n",
      "processing-->12~15\n",
      "processing-->12~13\n",
      "processing-->14~15\n"
     ]
    }
   ],
   "source": [
    "import import_ipynb\n",
    "from shell_sort import Algo"
   ]
  },
  {
   "cell_type": "code",
   "execution_count": null,
   "metadata": {},
   "outputs": [],
   "source": [
    "class MaxPQ(Algo):\n",
    "    def __init__(self, arr):\n",
    "        super.__init__(arr)\n",
    "        self.N += 1\n",
    "    def is_empty(self):\n",
    "        return self.N == 0\n",
    "    @property\n",
    "    def size(self):\n",
    "        return self.N\n",
    "    def swim(self, k):\n",
    "        while k > 1 and self.less(self.arr[k // 2], self.arr[k]):\n",
    "            self.exch(self.arr, k, k//2)\n",
    "            k = k // 2\n",
    "    def sink(self, k):\n",
    "        while 2 * k < self.N:\n",
    "            j = 2 * k\n",
    "            if j < self.N and self.less(self.arr[j], self.arr[j+1]):\n",
    "                j += 1\n",
    "            if not self.less(k, j):\n",
    "                break\n",
    "            self.exch(self.arr, k, j)\n",
    "            k = j\n",
    "    def insert(v):\n",
    "        self.arr[]"
   ]
  },
  {
   "cell_type": "code",
   "execution_count": 19,
   "metadata": {},
   "outputs": [
    {
     "name": "stdout",
     "output_type": "stream",
     "text": [
      "排序后的数组:\n",
      "1\n",
      "5\n",
      "7\n",
      "8\n",
      "9\n",
      "10\n"
     ]
    }
   ],
   "source": [
    "def partition(arr,low,high): \n",
    "    i = ( low-1 )         # 最小元素索引\n",
    "    pivot = arr[high]     \n",
    "  \n",
    "    for j in range(low , high): \n",
    "  \n",
    "        # 当前元素小于或等于 pivot \n",
    "        if   arr[j] <= pivot: \n",
    "          \n",
    "            i = i+1 \n",
    "            arr[i],arr[j] = arr[j],arr[i] \n",
    "  \n",
    "    arr[i+1],arr[high] = arr[high],arr[i+1] \n",
    "    return ( i+1 ) \n",
    "  \n",
    " \n",
    "# arr[] --> 排序数组\n",
    "# low  --> 起始索引\n",
    "# high  --> 结束索引\n",
    "  \n",
    "# 快速排序函数\n",
    "def quickSort(arr,low,high): \n",
    "    if low < high: \n",
    "  \n",
    "        pi = partition(arr,low,high) \n",
    "  \n",
    "        quickSort(arr, low, pi-1) \n",
    "        quickSort(arr, pi+1, high) \n",
    "  \n",
    "arr = [10, 7, 8, 9, 1, 5] \n",
    "n = len(arr) \n",
    "quickSort(arr,0,n-1) \n",
    "print (\"排序后的数组:\") \n",
    "for i in range(n): \n",
    "    print (\"%d\" %arr[i]),"
   ]
  }
 ],
 "metadata": {
  "kernelspec": {
   "display_name": "Python [conda env:tf37] *",
   "language": "python",
   "name": "conda-env-tf37-py"
  },
  "language_info": {
   "codemirror_mode": {
    "name": "ipython",
    "version": 3
   },
   "file_extension": ".py",
   "mimetype": "text/x-python",
   "name": "python",
   "nbconvert_exporter": "python",
   "pygments_lexer": "ipython3",
   "version": "3.6.9"
  }
 },
 "nbformat": 4,
 "nbformat_minor": 4
}
