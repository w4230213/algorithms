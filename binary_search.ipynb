{
 "cells": [
  {
   "cell_type": "code",
   "execution_count": 15,
   "metadata": {},
   "outputs": [],
   "source": [
    "def binSearch(arr, low, hi, num):\n",
    "    if not arr:\n",
    "        return False\n",
    "    if low == hi:\n",
    "        return num == arr[0]\n",
    "    else:\n",
    "        mid = (low + hi) // 2\n",
    "        if arr[mid] == num:\n",
    "            return True\n",
    "        elif num < arr[mid]:\n",
    "            return binSearch(arr, 0, mid-1, num)\n",
    "        elif num > arr[mid]:\n",
    "            return binSearch(arr, mid+1, hi, num)"
   ]
  },
  {
   "cell_type": "code",
   "execution_count": 16,
   "metadata": {},
   "outputs": [],
   "source": [
    "arr = [1,3,4,6,9,7,10,12,13,22,33,45,55]"
   ]
  },
  {
   "cell_type": "code",
   "execution_count": 18,
   "metadata": {},
   "outputs": [
    {
     "data": {
      "text/plain": [
       "True"
      ]
     },
     "execution_count": 18,
     "metadata": {},
     "output_type": "execute_result"
    }
   ],
   "source": [
    "binSearch(arr, 0, len(arr)-1, 22)"
   ]
  }
 ],
 "metadata": {
  "kernelspec": {
   "display_name": "Python [conda env:py36] *",
   "language": "python",
   "name": "conda-env-py36-py"
  },
  "language_info": {
   "codemirror_mode": {
    "name": "ipython",
    "version": 3
   },
   "file_extension": ".py",
   "mimetype": "text/x-python",
   "name": "python",
   "nbconvert_exporter": "python",
   "pygments_lexer": "ipython3",
   "version": "3.6.7"
  }
 },
 "nbformat": 4,
 "nbformat_minor": 4
}
