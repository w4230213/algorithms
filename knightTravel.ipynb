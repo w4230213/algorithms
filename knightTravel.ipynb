{
 "cells": [
  {
   "cell_type": "code",
   "execution_count": 1,
   "metadata": {},
   "outputs": [
    {
     "name": "stdout",
     "output_type": "stream",
     "text": [
      "importing Jupyter notebook from graph.ipynb\n"
     ]
    }
   ],
   "source": [
    "import import_ipynb\n",
    "from graph import Graph, Vertex"
   ]
  },
  {
   "cell_type": "code",
   "execution_count": 5,
   "metadata": {},
   "outputs": [],
   "source": [
    "def genLegalMoves(x, y, bdsize):\n",
    "    # 对某个棋盘位置(x,y),生成骑士可以有效到达的所有新位置\n",
    "    newMoves = []\n",
    "    moveoffsets = [(-1,-2),(-1,2),(-2,-1),(-2,1),\n",
    "                   (1,-2),(1,2),(2,-1),(2,1)]\n",
    "    for i in moveoffsets:\n",
    "        newX = x + i[0]\n",
    "        newY = y + i[1]\n",
    "        if legalCoord(newX, bdsize) and legalCoord(newY, bdsize):\n",
    "            newMoves.append((newX, newY))\n",
    "\n",
    "def legalCoord(x, bdsize):\n",
    "    if x >= 0 and x < bdsize:\n",
    "        return True\n",
    "    else:\n",
    "        return False"
   ]
  },
  {
   "cell_type": "code",
   "execution_count": 6,
   "metadata": {},
   "outputs": [],
   "source": [
    "def posToNodeId(row, col, bdsize):\n",
    "    # 棋盘坐标 -> 节点(顶点)id\n",
    "    return row * bdsize + col\n",
    "\n",
    "def knightGraph(bdsize):\n",
    "    ktGraph = Graph()\n",
    "    for row in range(bdsize):\n",
    "        for col in range(bdsize):\n",
    "            nodeId = posToNodeId(row, col, bdsize)\n",
    "            newPos = genLegalMoves(row, col, bdsize)\n",
    "            for e in newPos:\n",
    "                nid = posToNodeId(e[0], e[1], bdsize)\n",
    "                ktGraph.addEdge(nodeId, nid)"
   ]
  }
 ],
 "metadata": {
  "kernelspec": {
   "display_name": "Python [conda env:py36] *",
   "language": "python",
   "name": "conda-env-py36-py"
  },
  "language_info": {
   "codemirror_mode": {
    "name": "ipython",
    "version": 3
   },
   "file_extension": ".py",
   "mimetype": "text/x-python",
   "name": "python",
   "nbconvert_exporter": "python",
   "pygments_lexer": "ipython3",
   "version": "3.6.7"
  }
 },
 "nbformat": 4,
 "nbformat_minor": 4
}
