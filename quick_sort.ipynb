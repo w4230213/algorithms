{
 "cells": [
  {
   "cell_type": "code",
   "execution_count": 2,
   "metadata": {},
   "outputs": [
    {
     "name": "stdout",
     "output_type": "stream",
     "text": [
      "importing Jupyter notebook from shell_sort.ipynb\n",
      ">> h = 13\n",
      "['P', 'H', 'E', 'L', 'L', 'S', 'O', 'R', 'T', 'E', 'X', 'A', 'M', 'S', 'L', 'E']\n",
      ">> h = 4\n",
      "['L', 'E', 'E', 'A', 'M', 'H', 'L', 'E', 'P', 'S', 'O', 'L', 'T', 'S', 'X', 'R']\n",
      ">> h = 1\n",
      "['A', 'E', 'E', 'E', 'H', 'L', 'L', 'L', 'M', 'O', 'P', 'R', 'S', 'S', 'T', 'X']\n",
      "processing-->0~15\n",
      "processing-->0~7\n",
      "processing-->0~3\n",
      "processing-->0~1\n",
      "processing-->2~3\n",
      "processing-->4~7\n",
      "processing-->4~5\n",
      "processing-->6~7\n",
      "processing-->8~15\n",
      "processing-->8~11\n",
      "processing-->8~9\n",
      "processing-->10~11\n",
      "processing-->12~15\n",
      "processing-->12~13\n",
      "processing-->14~15\n"
     ]
    }
   ],
   "source": [
    "import import_ipynb\n",
    "from shell_sort import Algo\n",
    "import numpy as np"
   ]
  },
  {
   "cell_type": "code",
   "execution_count": 8,
   "metadata": {},
   "outputs": [],
   "source": [
    "class QuickSort(Algo):\n",
    "    \n",
    "    def sort(self):\n",
    "        np.random.shuffle(self.arr)\n",
    "        self._sort(self.arr,0, len(self.arr)-1)\n",
    "        \n",
    "    def _sort(self, a, lo, hi):\n",
    "        if hi <= lo:\n",
    "            return\n",
    "        j = self.partition(a, lo, hi)\n",
    "        self._sort(a, lo, j-1)\n",
    "        self._sort(a, j+1, hi)\n",
    "    \n",
    "    def partition(self,a, lo, hi):\n",
    "        i, j = lo+1, hi\n",
    "        v = a[lo]\n",
    "        print('this turn --> {}'.format(v))\n",
    "        while True:\n",
    "            while self.less(a[i], v) and i < hi:\n",
    "                i += 1\n",
    "#                 if i == hi:\n",
    "#                     print('i reached j')\n",
    "#                     break\n",
    "            while self.less(v, a[j]) and j > lo:\n",
    "                j -= 1\n",
    "#                 if j == lo:\n",
    "#                     print('j reached i')\n",
    "#                     break\n",
    "            print('i--->{}:{}, j--->{}:{}'.format(i, a[i], j, a[j]))\n",
    "            if i >= j:\n",
    "                break\n",
    "            self.exch(a, i, j)\n",
    "        self.exch(a, lo, j)\n",
    "        print('place v:{} @ idx {}'.format(v, j))\n",
    "        return j"
   ]
  },
  {
   "cell_type": "code",
   "execution_count": 9,
   "metadata": {},
   "outputs": [
    {
     "data": {
      "text/plain": [
       "array([ 9,  4, 18,  2,  8, 10, 13, 17, 16,  5, 12, 11,  6, 14, 15,  1,  3,\n",
       "        7,  0, 19])"
      ]
     },
     "execution_count": 9,
     "metadata": {},
     "output_type": "execute_result"
    }
   ],
   "source": [
    "a = np.arange(20)\n",
    "np.random.shuffle(a)\n",
    "a"
   ]
  },
  {
   "cell_type": "code",
   "execution_count": 10,
   "metadata": {},
   "outputs": [],
   "source": [
    "qsort = QuickSort(a)"
   ]
  },
  {
   "cell_type": "code",
   "execution_count": 11,
   "metadata": {},
   "outputs": [
    {
     "name": "stdout",
     "output_type": "stream",
     "text": [
      "this turn --> 2\n",
      "i--->1:13, j--->13:0\n",
      "i--->2:19, j--->11:1\n",
      "i--->3:9, j--->2:1\n",
      "place v:2 @ idx 2\n",
      "this turn --> 1\n",
      "i--->1:0, j--->1:0\n",
      "place v:1 @ idx 1\n",
      "this turn --> 9\n",
      "i--->4:16, j--->19:5\n",
      "i--->5:17, j--->18:8\n",
      "i--->6:10, j--->17:3\n",
      "i--->7:18, j--->14:7\n",
      "i--->8:11, j--->12:4\n",
      "i--->10:12, j--->9:6\n",
      "place v:9 @ idx 9\n",
      "this turn --> 6\n",
      "i--->5:8, j--->8:4\n",
      "i--->7:7, j--->6:3\n",
      "place v:6 @ idx 6\n",
      "this turn --> 3\n",
      "i--->4:5, j--->3:3\n",
      "place v:3 @ idx 3\n",
      "this turn --> 5\n",
      "i--->5:4, j--->5:4\n",
      "place v:5 @ idx 5\n",
      "this turn --> 7\n",
      "i--->8:8, j--->7:7\n",
      "place v:7 @ idx 7\n",
      "this turn --> 12\n",
      "i--->11:19, j--->17:10\n",
      "i--->13:13, j--->12:11\n",
      "place v:12 @ idx 12\n",
      "this turn --> 11\n",
      "i--->11:10, j--->11:10\n",
      "place v:11 @ idx 11\n",
      "this turn --> 13\n",
      "i--->14:18, j--->13:13\n",
      "place v:13 @ idx 13\n",
      "this turn --> 18\n",
      "i--->17:19, j--->19:16\n",
      "i--->19:19, j--->18:17\n",
      "place v:18 @ idx 18\n",
      "this turn --> 17\n",
      "i--->17:16, j--->17:16\n",
      "place v:17 @ idx 17\n",
      "this turn --> 16\n",
      "i--->16:15, j--->16:15\n",
      "place v:16 @ idx 16\n",
      "this turn --> 15\n",
      "i--->15:14, j--->15:14\n",
      "place v:15 @ idx 15\n"
     ]
    }
   ],
   "source": [
    "qsort.sort()"
   ]
  },
  {
   "cell_type": "code",
   "execution_count": 12,
   "metadata": {},
   "outputs": [
    {
     "data": {
      "text/plain": [
       "[0, 1, 2, 3, 4, 5, 6, 7, 8, 9, 10, 11, 12, 13, 14, 15, 16, 17, 18, 19]"
      ]
     },
     "execution_count": 12,
     "metadata": {},
     "output_type": "execute_result"
    }
   ],
   "source": [
    "qsort.arr"
   ]
  },
  {
   "cell_type": "code",
   "execution_count": null,
   "metadata": {},
   "outputs": [],
   "source": []
  }
 ],
 "metadata": {
  "kernelspec": {
   "display_name": "Python [conda env:tf37] *",
   "language": "python",
   "name": "conda-env-tf37-py"
  },
  "language_info": {
   "codemirror_mode": {
    "name": "ipython",
    "version": 3
   },
   "file_extension": ".py",
   "mimetype": "text/x-python",
   "name": "python",
   "nbconvert_exporter": "python",
   "pygments_lexer": "ipython3",
   "version": "3.6.9"
  }
 },
 "nbformat": 4,
 "nbformat_minor": 4
}
