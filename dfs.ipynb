{
 "cells": [
  {
   "cell_type": "code",
   "execution_count": 2,
   "metadata": {},
   "outputs": [],
   "source": [
    "import import_ipynb\n",
    "from graph import Graph, Vertex"
   ]
  },
  {
   "cell_type": "code",
   "execution_count": 4,
   "metadata": {},
   "outputs": [],
   "source": [
    "class DFSGraph(Graph):\n",
    "    def __init__(self):\n",
    "        super().__init__()\n",
    "        self.time = 0\n",
    "    \n",
    "    def dfs(self):\n",
    "        for v in self:\n",
    "            v.setColor('white')\n",
    "            v.setPred(-1)\n",
    "        for v in self:\n",
    "            if v.gerColor() == 'white':\n",
    "                self.dfsvisit(v)\n",
    "    \n",
    "    def dfsvisit(self, v):\n",
    "        v.setColor('gray')\n",
    "        self.time += 1  # 这个time是Graph下的全局变量\n",
    "        v.setDiscovery(self.time)\n",
    "        for nxv in v.getConnections():\n",
    "            if nxv.getColor() == 'white':\n",
    "                nxv.setPred(self.getId())\n",
    "                self.dfsvisit(nxv)\n",
    "        v.setColor('black')\n",
    "        self.time += 1\n",
    "        v.setFinish(self.time)"
   ]
  },
  {
   "cell_type": "code",
   "execution_count": null,
   "metadata": {},
   "outputs": [],
   "source": []
  }
 ],
 "metadata": {
  "kernelspec": {
   "display_name": "Python [conda env:tf37] *",
   "language": "python",
   "name": "conda-env-tf37-py"
  },
  "language_info": {
   "codemirror_mode": {
    "name": "ipython",
    "version": 3
   },
   "file_extension": ".py",
   "mimetype": "text/x-python",
   "name": "python",
   "nbconvert_exporter": "python",
   "pygments_lexer": "ipython3",
   "version": "3.6.9"
  }
 },
 "nbformat": 4,
 "nbformat_minor": 4
}
