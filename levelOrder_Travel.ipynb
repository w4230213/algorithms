{
 "cells": [
  {
   "cell_type": "code",
   "execution_count": 2,
   "metadata": {},
   "outputs": [],
   "source": [
    "class TreeNode:\n",
    "    def __init__(self, x):\n",
    "        self.val = x\n",
    "        self.left = None\n",
    "        self.right = None"
   ]
  },
  {
   "cell_type": "code",
   "execution_count": null,
   "metadata": {},
   "outputs": [],
   "source": [
    "[3,9,20,null,null,15,7]"
   ]
  },
  {
   "cell_type": "code",
   "execution_count": 3,
   "metadata": {},
   "outputs": [],
   "source": [
    "root = TreeNode(3)\n",
    "root.left = TreeNode(9)\n",
    "root.right = TreeNode(20)\n",
    "root.right.left = TreeNode(15)\n",
    "root.right.right = TreeNode(7)"
   ]
  },
  {
   "cell_type": "code",
   "execution_count": 4,
   "metadata": {},
   "outputs": [],
   "source": [
    "def preorderTravel(root):\n",
    "    if not root:\n",
    "        return\n",
    "    else:\n",
    "        print(root.val)\n",
    "        preorderTravel(root.left)\n",
    "        preorderTravel(root.right)"
   ]
  },
  {
   "cell_type": "code",
   "execution_count": 5,
   "metadata": {},
   "outputs": [
    {
     "name": "stdout",
     "output_type": "stream",
     "text": [
      "3\n",
      "9\n",
      "20\n",
      "15\n",
      "7\n"
     ]
    }
   ],
   "source": [
    "preorderTravel(root)"
   ]
  },
  {
   "cell_type": "code",
   "execution_count": 17,
   "metadata": {},
   "outputs": [],
   "source": [
    "def levelOrder(root: TreeNode):\n",
    "        val_list = []\n",
    "        s_val_list = []\n",
    "        stack_list = [root, None]\n",
    "        while stack_list:\n",
    "#             if len(stack_list) == 1:\n",
    "#                 stack_list.append(None)\n",
    "            node = stack_list.pop(0)\n",
    "            if node is not None:\n",
    "                #s_val_list = []\n",
    "                s_val_list.append(node.val)\n",
    "                if node.left:\n",
    "                    stack_list.append(node.left)\n",
    "                if node.right:                    \n",
    "                    stack_list.append(node.right)\n",
    "                if stack_list[0] == None:\n",
    "                    stack_list.append(None)\n",
    "            else:\n",
    "                #stack_list.append(None)\n",
    "                val_list.append(s_val_list)\n",
    "                s_val_list = []\n",
    "        return val_list[:-1]"
   ]
  },
  {
   "cell_type": "code",
   "execution_count": 18,
   "metadata": {},
   "outputs": [
    {
     "data": {
      "text/plain": [
       "[[3], [9, 20], [15, 7]]"
      ]
     },
     "execution_count": 18,
     "metadata": {},
     "output_type": "execute_result"
    }
   ],
   "source": [
    "levelOrder(root)"
   ]
  },
  {
   "cell_type": "code",
   "execution_count": null,
   "metadata": {},
   "outputs": [],
   "source": []
  }
 ],
 "metadata": {
  "kernelspec": {
   "display_name": "Python [conda env:f37]",
   "language": "python",
   "name": "conda-env-f37-py"
  },
  "language_info": {
   "codemirror_mode": {
    "name": "ipython",
    "version": 3
   },
   "file_extension": ".py",
   "mimetype": "text/x-python",
   "name": "python",
   "nbconvert_exporter": "python",
   "pygments_lexer": "ipython3",
   "version": "3.7.3"
  }
 },
 "nbformat": 4,
 "nbformat_minor": 4
}
