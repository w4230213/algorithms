{
 "cells": [
  {
   "cell_type": "code",
   "execution_count": 2,
   "metadata": {},
   "outputs": [],
   "source": [
    "import numpy as np"
   ]
  },
  {
   "cell_type": "code",
   "execution_count": 3,
   "metadata": {},
   "outputs": [],
   "source": [
    "def quick_sort(arr):\n",
    "    n = len(arr)\n",
    "    mid = arr[0]\n",
    "    lo, hi = 1, n - 1\n",
    "    while lo < hi:\n",
    "        while lo < n and arr[lo] < mid:\n",
    "            lo += 1\n",
    "        while hi >= 0 and arr[hi] > mid:\n",
    "            hi -= 1\n",
    "        arr[lo], arr[hi] = arr[hi], arr[lo]\n",
    "    arr[0], arr[hi] = arr[hi], arr[0]\n",
    "    quick_sort(arr[:hi])\n",
    "    quick_sort(arr[hi+1:])\n",
    "    return arr"
   ]
  },
  {
   "cell_type": "code",
   "execution_count": 8,
   "metadata": {},
   "outputs": [
    {
     "data": {
      "text/plain": [
       "array([ 3,  6, 17,  7, 13, 15,  1,  2,  8, 11, 10,  0, 14, 18,  9,  4, 12,\n",
       "       16,  5, 19])"
      ]
     },
     "execution_count": 8,
     "metadata": {},
     "output_type": "execute_result"
    }
   ],
   "source": [
    "a = np.arange(20)\n",
    "a = np.random.permutation(a)\n",
    "a"
   ]
  },
  {
   "cell_type": "code",
   "execution_count": 48,
   "metadata": {},
   "outputs": [],
   "source": [
    "def partition(arr, lo, hi):\n",
    "    v = arr[lo]\n",
    "    print(v)\n",
    "    i, j = lo+1, hi\n",
    "    while True:\n",
    "        while i < hi and arr[i] < v:\n",
    "            i+=1\n",
    "        while j > lo and arr[j] > v:\n",
    "            j-=1\n",
    "        if i >= j:\n",
    "            break\n",
    "#         print('i',i,'j',j,arr,'before')\n",
    "        arr[i], arr[j] = arr[j], arr[i]\n",
    "#         print('i',i,'j',j,arr,'after')\n",
    "    \n",
    "    arr[lo], arr[j] = arr[j], arr[lo]\n",
    "#     print('lo',lo,'j',j,arr,'final')\n",
    "    return j\n",
    "    \n",
    "def _sort(arr, lo, hi):\n",
    "    if hi <= lo:\n",
    "        return\n",
    "    j = partition(arr, lo, hi)\n",
    "    _sort(arr, lo, j-1)\n",
    "    _sort(arr, j+1, hi)\n",
    "    \n",
    "def quick_sort_(arr):\n",
    "    np.random.shuffle(arr)\n",
    "    n = len(arr)\n",
    "    _sort(arr, 0, n-1)\n",
    "    return arr\n",
    "    \n",
    "    \n",
    "    "
   ]
  },
  {
   "cell_type": "code",
   "execution_count": 49,
   "metadata": {},
   "outputs": [
    {
     "name": "stdout",
     "output_type": "stream",
     "text": [
      "53\n",
      "14\n",
      "11\n",
      "1\n",
      "8\n",
      "7\n",
      "3\n",
      "6\n",
      "4\n",
      "9\n",
      "12\n",
      "17\n",
      "15\n",
      "18\n",
      "19\n",
      "50\n",
      "33\n",
      "32\n",
      "30\n",
      "24\n",
      "20\n",
      "21\n",
      "22\n",
      "25\n",
      "29\n",
      "27\n",
      "36\n",
      "34\n",
      "42\n",
      "39\n",
      "37\n",
      "40\n",
      "49\n",
      "48\n",
      "46\n",
      "44\n",
      "52\n",
      "82\n",
      "67\n",
      "54\n",
      "64\n",
      "61\n",
      "60\n",
      "56\n",
      "57\n",
      "59\n",
      "62\n",
      "65\n",
      "81\n",
      "80\n",
      "79\n",
      "74\n",
      "69\n",
      "72\n",
      "70\n",
      "76\n",
      "77\n",
      "96\n",
      "95\n",
      "83\n",
      "94\n",
      "87\n",
      "85\n",
      "92\n",
      "91\n",
      "89\n",
      "99\n",
      "97\n"
     ]
    },
    {
     "data": {
      "text/plain": [
       "array([ 0,  1,  2,  3,  4,  5,  6,  7,  8,  9, 10, 11, 12, 13, 14, 15, 16,\n",
       "       17, 18, 19, 20, 21, 22, 23, 24, 25, 26, 27, 28, 29, 30, 31, 32, 33,\n",
       "       34, 35, 36, 37, 38, 39, 40, 41, 42, 43, 44, 45, 46, 47, 48, 49, 50,\n",
       "       51, 52, 53, 54, 55, 56, 57, 58, 59, 60, 61, 62, 63, 64, 65, 66, 67,\n",
       "       68, 69, 70, 71, 72, 73, 74, 75, 76, 77, 78, 79, 80, 81, 82, 83, 84,\n",
       "       85, 86, 87, 88, 89, 90, 91, 92, 93, 94, 95, 96, 97, 98, 99])"
      ]
     },
     "execution_count": 49,
     "metadata": {},
     "output_type": "execute_result"
    }
   ],
   "source": [
    "b = np.arange(100)\n",
    "quick_sort_(b)"
   ]
  },
  {
   "cell_type": "code",
   "execution_count": null,
   "metadata": {},
   "outputs": [],
   "source": []
  }
 ],
 "metadata": {
  "kernelspec": {
   "display_name": "Python [conda env:tf37] *",
   "language": "python",
   "name": "conda-env-tf37-py"
  },
  "language_info": {
   "codemirror_mode": {
    "name": "ipython",
    "version": 3
   },
   "file_extension": ".py",
   "mimetype": "text/x-python",
   "name": "python",
   "nbconvert_exporter": "python",
   "pygments_lexer": "ipython3",
   "version": "3.6.9"
  }
 },
 "nbformat": 4,
 "nbformat_minor": 4
}
