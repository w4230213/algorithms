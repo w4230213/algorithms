{
 "cells": [
  {
   "cell_type": "code",
   "execution_count": 2,
   "metadata": {},
   "outputs": [],
   "source": [
    "import numpy as np"
   ]
  },
  {
   "cell_type": "code",
   "execution_count": 3,
   "metadata": {},
   "outputs": [],
   "source": [
    "def quick_sort(arr):\n",
    "    n = len(arr)\n",
    "    mid = arr[0]\n",
    "    lo, hi = 1, n - 1\n",
    "    while lo < hi:\n",
    "        while lo < n and arr[lo] < mid:\n",
    "            lo += 1\n",
    "        while hi >= 0 and arr[hi] > mid:\n",
    "            hi -= 1\n",
    "        arr[lo], arr[hi] = arr[hi], arr[lo]\n",
    "    arr[0], arr[hi] = arr[hi], arr[0]\n",
    "    quick_sort(arr[:hi])\n",
    "    quick_sort(arr[hi+1:])\n",
    "    return arr"
   ]
  },
  {
   "cell_type": "code",
   "execution_count": 8,
   "metadata": {},
   "outputs": [
    {
     "data": {
      "text/plain": [
       "array([ 3,  6, 17,  7, 13, 15,  1,  2,  8, 11, 10,  0, 14, 18,  9,  4, 12,\n",
       "       16,  5, 19])"
      ]
     },
     "execution_count": 8,
     "metadata": {},
     "output_type": "execute_result"
    }
   ],
   "source": [
    "a = np.arange(20)\n",
    "a = np.random.permutation(a)\n",
    "a"
   ]
  },
  {
   "cell_type": "code",
   "execution_count": 39,
   "metadata": {},
   "outputs": [],
   "source": [
    "def partition(arr, lo, hi):\n",
    "    v = arr[lo]\n",
    "    print(v)\n",
    "    i, j = lo+1, hi\n",
    "    while True:\n",
    "        while i < hi and arr[i] < v:\n",
    "            i+=1\n",
    "        while j > lo and arr[j] > v:\n",
    "            j-=1\n",
    "        if i >= j:\n",
    "            break\n",
    "        print('i',i,'j',j,arr,'before')\n",
    "        arr[i], arr[j] = arr[j], arr[i]\n",
    "        print('i',i,'j',j,arr,'after')\n",
    "    \n",
    "    arr[lo], arr[j] = arr[j], arr[lo]\n",
    "    print('lo',lo,'j',j,arr,'final')\n",
    "    return j\n",
    "    \n",
    "def _sort(arr, lo, hi):\n",
    "    if hi <= lo:\n",
    "        return\n",
    "    j = partition(arr, lo, hi)\n",
    "    _sort(arr, lo, j-1)\n",
    "    _sort(arr, j+1, hi)\n",
    "    \n",
    "def quick_sort_(arr):\n",
    "    np.random.shuffle(arr)\n",
    "    n = len(arr)\n",
    "    _sort(arr, 0, n-1)\n",
    "    return arr\n",
    "    \n",
    "    \n",
    "    "
   ]
  },
  {
   "cell_type": "code",
   "execution_count": 41,
   "metadata": {},
   "outputs": [
    {
     "name": "stdout",
     "output_type": "stream",
     "text": [
      "0\n",
      "lo 0 j 0 [0 3 5 4 2 6 8 9 1 7] final\n",
      "3\n",
      "i 2 j 8 [0 3 5 4 2 6 8 9 1 7] before\n",
      "i 2 j 8 [0 3 1 4 2 6 8 9 5 7] after\n",
      "i 3 j 4 [0 3 1 4 2 6 8 9 5 7] before\n",
      "i 3 j 4 [0 3 1 2 4 6 8 9 5 7] after\n",
      "lo 1 j 3 [0 2 1 3 4 6 8 9 5 7] final\n",
      "2\n",
      "lo 1 j 2 [0 1 2 3 4 6 8 9 5 7] final\n",
      "4\n",
      "lo 4 j 4 [0 1 2 3 4 6 8 9 5 7] final\n",
      "6\n",
      "i 6 j 8 [0 1 2 3 4 6 8 9 5 7] before\n",
      "i 6 j 8 [0 1 2 3 4 6 5 9 8 7] after\n",
      "lo 5 j 6 [0 1 2 3 4 5 6 9 8 7] final\n",
      "9\n",
      "lo 7 j 9 [0 1 2 3 4 5 6 7 8 9] final\n",
      "7\n",
      "lo 7 j 7 [0 1 2 3 4 5 6 7 8 9] final\n"
     ]
    },
    {
     "data": {
      "text/plain": [
       "array([0, 1, 2, 3, 4, 5, 6, 7, 8, 9])"
      ]
     },
     "execution_count": 41,
     "metadata": {},
     "output_type": "execute_result"
    }
   ],
   "source": [
    "b = np.arange(10)\n",
    "quick_sort_(b)"
   ]
  },
  {
   "cell_type": "code",
   "execution_count": null,
   "metadata": {},
   "outputs": [],
   "source": []
  }
 ],
 "metadata": {
  "kernelspec": {
   "display_name": "Python [conda env:tf37] *",
   "language": "python",
   "name": "conda-env-tf37-py"
  },
  "language_info": {
   "codemirror_mode": {
    "name": "ipython",
    "version": 3
   },
   "file_extension": ".py",
   "mimetype": "text/x-python",
   "name": "python",
   "nbconvert_exporter": "python",
   "pygments_lexer": "ipython3",
   "version": "3.6.9"
  }
 },
 "nbformat": 4,
 "nbformat_minor": 4
}
