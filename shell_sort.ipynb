{
 "cells": [
  {
   "cell_type": "code",
   "execution_count": 1,
   "metadata": {},
   "outputs": [],
   "source": [
    "import numpy as np"
   ]
  },
  {
   "cell_type": "code",
   "execution_count": 44,
   "metadata": {},
   "outputs": [],
   "source": [
    "class Algo:\n",
    "    def __init__(self,arr):\n",
    "        self.arr = list(arr)\n",
    "        self.N = len(self.arr)\n",
    "    def exch(self, a, i, j):\n",
    "        t = a[i]\n",
    "        a[i] = a[j]\n",
    "        a[j] = t\n",
    "    def show(self, a=None):\n",
    "        _a = a if a is not None else self.arr\n",
    "        print(_a)\n",
    "    def less(self, vi, vj):\n",
    "        return vi < vj\n",
    "    def isSorted(self):\n",
    "        return (np.sort(self.arr) == self.arr).all()\n",
    "    def sort(self,*arg,**kw):\n",
    "        pass"
   ]
  },
  {
   "cell_type": "code",
   "execution_count": 53,
   "metadata": {},
   "outputs": [],
   "source": [
    "class ShellSort(Algo):\n",
    "    def sort(self):\n",
    "        N = self.N\n",
    "        h = 1\n",
    "        while h < N / 3:\n",
    "            h = 3 * h + 1\n",
    "        while h >= 1:\n",
    "            for i in range(h, N):\n",
    "                j = i\n",
    "                while(j >= h and self.less(self.arr[j], self.arr[j-h])):\n",
    "                    self.exch(self.arr, j, j-h)\n",
    "                    j -= h\n",
    "            print('>> h =',h)\n",
    "            self.show()\n",
    "            h = h // 3"
   ]
  },
  {
   "cell_type": "code",
   "execution_count": 54,
   "metadata": {},
   "outputs": [],
   "source": [
    "_in = 'SHELLSORTEXAMPLE'"
   ]
  },
  {
   "cell_type": "code",
   "execution_count": 55,
   "metadata": {},
   "outputs": [],
   "source": [
    "shell = ShellSort(_in)"
   ]
  },
  {
   "cell_type": "code",
   "execution_count": 56,
   "metadata": {},
   "outputs": [
    {
     "name": "stdout",
     "output_type": "stream",
     "text": [
      ">> h = 13\n",
      "['P', 'H', 'E', 'L', 'L', 'S', 'O', 'R', 'T', 'E', 'X', 'A', 'M', 'S', 'L', 'E']\n",
      ">> h = 4\n",
      "['L', 'E', 'E', 'A', 'M', 'H', 'L', 'E', 'P', 'S', 'O', 'L', 'T', 'S', 'X', 'R']\n",
      ">> h = 1\n",
      "['A', 'E', 'E', 'E', 'H', 'L', 'L', 'L', 'M', 'O', 'P', 'R', 'S', 'S', 'T', 'X']\n"
     ]
    }
   ],
   "source": [
    "shell.sort()"
   ]
  },
  {
   "cell_type": "code",
   "execution_count": 64,
   "metadata": {},
   "outputs": [],
   "source": [
    "def msort(lo,hi):\n",
    "    if hi <= lo:\n",
    "        return\n",
    "    print('processing-->{}~{}'.format(lo,hi))\n",
    "    mid = lo + (hi - lo) // 2\n",
    "    msort(lo,mid)\n",
    "    msort(mid+1, hi)"
   ]
  },
  {
   "cell_type": "code",
   "execution_count": 65,
   "metadata": {},
   "outputs": [
    {
     "name": "stdout",
     "output_type": "stream",
     "text": [
      "processing-->0~15\n",
      "processing-->0~7\n",
      "processing-->0~3\n",
      "processing-->0~1\n",
      "processing-->2~3\n",
      "processing-->4~7\n",
      "processing-->4~5\n",
      "processing-->6~7\n",
      "processing-->8~15\n",
      "processing-->8~11\n",
      "processing-->8~9\n",
      "processing-->10~11\n",
      "processing-->12~15\n",
      "processing-->12~13\n",
      "processing-->14~15\n"
     ]
    }
   ],
   "source": [
    "msort(0,15)"
   ]
  }
 ],
 "metadata": {
  "kernelspec": {
   "display_name": "Python [conda env:py36] *",
   "language": "python",
   "name": "conda-env-py36-py"
  },
  "language_info": {
   "codemirror_mode": {
    "name": "ipython",
    "version": 3
   },
   "file_extension": ".py",
   "mimetype": "text/x-python",
   "name": "python",
   "nbconvert_exporter": "python",
   "pygments_lexer": "ipython3",
   "version": "3.6.7"
  }
 },
 "nbformat": 4,
 "nbformat_minor": 4
}
