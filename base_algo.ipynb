{
 "cells": [
  {
   "cell_type": "code",
   "execution_count": 1,
   "metadata": {},
   "outputs": [],
   "source": [
    "class Algo:\n",
    "    def __init__(self,arr):\n",
    "        self.arr = list(arr)\n",
    "        self.N = len(self.arr)\n",
    "    def exch(self, a, i, j):\n",
    "        t = a[i]\n",
    "        a[i] = a[j]\n",
    "        a[j] = t\n",
    "    def show(self, a=None):\n",
    "        _a = a if a is not None else self.arr\n",
    "        print(_a)\n",
    "    def less(self, vi, vj):\n",
    "        return vi < vj\n",
    "    def isSorted(self):\n",
    "        return (np.sort(self.arr) == self.arr).all()\n",
    "    def sort(self,*arg,**kw):\n",
    "        pass"
   ]
  },
  {
   "cell_type": "code",
   "execution_count": null,
   "metadata": {},
   "outputs": [],
   "source": []
  }
 ],
 "metadata": {
  "kernelspec": {
   "display_name": "Python [conda env:py36] *",
   "language": "python",
   "name": "conda-env-py36-py"
  },
  "language_info": {
   "codemirror_mode": {
    "name": "ipython",
    "version": 3
   },
   "file_extension": ".py",
   "mimetype": "text/x-python",
   "name": "python",
   "nbconvert_exporter": "python",
   "pygments_lexer": "ipython3",
   "version": "3.6.7"
  }
 },
 "nbformat": 4,
 "nbformat_minor": 4
}
