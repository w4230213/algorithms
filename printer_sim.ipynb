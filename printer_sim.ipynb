{
 "cells": [
  {
   "cell_type": "code",
   "execution_count": 22,
   "metadata": {},
   "outputs": [],
   "source": [
    "import random\n",
    "import math\n",
    "from queue import Queue\n",
    "from time import time"
   ]
  },
  {
   "cell_type": "code",
   "execution_count": 15,
   "metadata": {},
   "outputs": [],
   "source": [
    "class Printer:\n",
    "    \n",
    "    def __init__(self, ppm):\n",
    "        self.ppm = ppm\n",
    "        self.currentTask = None\n",
    "        self.timeReamining = 0\n",
    "        \n",
    "    def tick(self):\n",
    "        if self.currentTask is not None:\n",
    "            self.timeReamining -= 1\n",
    "            if self.timeReamining <= 0:\n",
    "                self.currentTask = None\n",
    "                \n",
    "    def busy(self):\n",
    "        return self.currentTask is not None\n",
    "    \n",
    "    def startNext(self, newtask):\n",
    "        self.currentTask = newtask\n",
    "        self.timeReamining = newtask.getPages() / (self.ppm / 60) "
   ]
  },
  {
   "cell_type": "code",
   "execution_count": 17,
   "metadata": {},
   "outputs": [],
   "source": [
    "class Task:\n",
    "    \n",
    "    def __init__(self, currenttime):\n",
    "        self.timestamp = currenttime\n",
    "        self.pages = random.randrange(1,21)\n",
    "    \n",
    "    def getPages(self):\n",
    "        return self.pages\n",
    "    \n",
    "    def getTimestamp(self):\n",
    "        return self.timestamp\n",
    "    \n",
    "    def waittingTime(self, currentTime):\n",
    "        return currentTime - self.timestamp"
   ]
  },
  {
   "cell_type": "code",
   "execution_count": 18,
   "metadata": {},
   "outputs": [],
   "source": [
    "def newPrintTask():\n",
    "    num = random.randrange(1,181)\n",
    "    return num == 5"
   ]
  },
  {
   "cell_type": "code",
   "execution_count": 41,
   "metadata": {},
   "outputs": [],
   "source": [
    "def simulate(timeRange, ppm):\n",
    "    printer = Printer(ppm)\n",
    "    taskq = Queue()\n",
    "    wattingTimes = []\n",
    "    \n",
    "    for sec in range(timeRange):\n",
    "        if newPrintTask():\n",
    "            newTask = Task(sec)\n",
    "            taskq.put(newTask)\n",
    "        if not printer.busy() and not taskq.empty():\n",
    "            task = taskq.get()\n",
    "            wattingTimes.append(task.waittingTime(sec))\n",
    "            printer.startNext(task)\n",
    "        printer.tick()\n",
    "    average_waitting_time = sum(wattingTimes) / len(wattingTimes)\n",
    "    remain_tasks = taskq.qsize()\n",
    "    print('Average watting time : {:.6f}, and there are {} tasks remaining...'.format(average_waitting_time, remain_tasks))\n",
    "    return wattingTimes"
   ]
  },
  {
   "cell_type": "code",
   "execution_count": 46,
   "metadata": {},
   "outputs": [
    {
     "name": "stdout",
     "output_type": "stream",
     "text": [
      "Average watting time : 16.294118, and there are 0 tasks remaining...\n",
      "Average watting time : 11.157895, and there are 0 tasks remaining...\n",
      "Average watting time : 9.520000, and there are 0 tasks remaining...\n",
      "Average watting time : 14.700000, and there are 1 tasks remaining...\n",
      "Average watting time : 6.800000, and there are 1 tasks remaining...\n",
      "Average watting time : 14.260870, and there are 0 tasks remaining...\n",
      "Average watting time : 34.916667, and there are 0 tasks remaining...\n",
      "Average watting time : 3.818182, and there are 0 tasks remaining...\n",
      "Average watting time : 14.458333, and there are 0 tasks remaining...\n",
      "Average watting time : 11.437500, and there are 0 tasks remaining...\n",
      "Average watting time : 4.526316, and there are 0 tasks remaining...\n",
      "Average watting time : 5.444444, and there are 0 tasks remaining...\n",
      "Average watting time : 23.363636, and there are 0 tasks remaining...\n",
      "Average watting time : 10.857143, and there are 0 tasks remaining...\n",
      "Average watting time : 29.523810, and there are 0 tasks remaining...\n",
      "Average watting time : 35.529412, and there are 0 tasks remaining...\n",
      "Average watting time : 52.200000, and there are 0 tasks remaining...\n",
      "Average watting time : 12.730769, and there are 0 tasks remaining...\n",
      "Average watting time : 4.086957, and there are 0 tasks remaining...\n",
      "Average watting time : 6.937500, and there are 0 tasks remaining...\n",
      "Summary: Average waitting time ---> 16.898765 seconds\n"
     ]
    }
   ],
   "source": [
    "summary = []\n",
    "for i in range(20):\n",
    "    wattingtime = simulate(3600, 10)\n",
    "    summary.extend(wattingtime)\n",
    "print('Summary: Average waitting time ---> {:.6f} seconds'.format(sum(summary) / len(summary)))"
   ]
  },
  {
   "cell_type": "code",
   "execution_count": null,
   "metadata": {},
   "outputs": [],
   "source": []
  }
 ],
 "metadata": {
  "kernelspec": {
   "display_name": "Python [conda env:py36] *",
   "language": "python",
   "name": "conda-env-py36-py"
  },
  "language_info": {
   "codemirror_mode": {
    "name": "ipython",
    "version": 3
   },
   "file_extension": ".py",
   "mimetype": "text/x-python",
   "name": "python",
   "nbconvert_exporter": "python",
   "pygments_lexer": "ipython3",
   "version": "3.6.7"
  }
 },
 "nbformat": 4,
 "nbformat_minor": 4
}
