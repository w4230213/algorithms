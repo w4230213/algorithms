{
 "cells": [
  {
   "cell_type": "code",
   "execution_count": 19,
   "metadata": {},
   "outputs": [],
   "source": [
    "import numpy as np"
   ]
  },
  {
   "cell_type": "code",
   "execution_count": 32,
   "metadata": {},
   "outputs": [],
   "source": [
    "def shellSort(arr):\n",
    "    N = len(arr)\n",
    "    h = 1\n",
    "    while h < N / 3:\n",
    "        h = h * 3 + 1\n",
    "    while h >= 1:\n",
    "        for i in range(h, N):\n",
    "            while i >= h and arr[i] < arr[i-h]:\n",
    "                arr[i], arr[i-h] = arr[i-h], arr[i]\n",
    "                i -= h\n",
    "        h //= 3"
   ]
  },
  {
   "cell_type": "code",
   "execution_count": 33,
   "metadata": {},
   "outputs": [],
   "source": [
    "arr = np.random.randint(0, 1000, 20)"
   ]
  },
  {
   "cell_type": "code",
   "execution_count": 34,
   "metadata": {},
   "outputs": [
    {
     "name": "stdout",
     "output_type": "stream",
     "text": [
      "[ 88  92 123 204 260 328 368 449 541 552 562 727 751 763 770 811 834 862\n",
      " 961 983]\n"
     ]
    }
   ],
   "source": [
    "shellSort(arr)\n",
    "print(arr)"
   ]
  },
  {
   "cell_type": "code",
   "execution_count": 26,
   "metadata": {},
   "outputs": [],
   "source": [
    "def gapInsertSort(arr, startidx, gap):\n",
    "    if len(arr) == 0:\n",
    "        return\n",
    "    for i in range(startidx, len(arr)):\n",
    "        currentValue = arr[i]\n",
    "        while i > 0 and currentValue < arr[i-gap]:\n",
    "            arr[i] = arr[i-gap]\n",
    "            i -= gap\n",
    "        arr[i] = currentValue"
   ]
  },
  {
   "cell_type": "code",
   "execution_count": 27,
   "metadata": {},
   "outputs": [],
   "source": [
    "def shellSort2(arr):\n",
    "    N = len(arr)\n",
    "    interval = 1\n",
    "    while interval < N / 3:\n",
    "        interval = interval * 3 + 1\n",
    "    while interval >= 1:\n",
    "        for i in range(interval):\n",
    "            gapInsertSort(arr, i, interval)\n",
    "        print(arr)\n",
    "        interval //= 3"
   ]
  },
  {
   "cell_type": "code",
   "execution_count": 28,
   "metadata": {},
   "outputs": [
    {
     "name": "stdout",
     "output_type": "stream",
     "text": [
      "[ 31 902 622 758 517 316 116 983 916 771 569 410 287 113 928 875 763 558\n",
      " 356 207]\n",
      "[ 31 902 928 983 287 316 356 410 517 558 569 758 763 771 622 875 916 113\n",
      " 116 207]\n",
      "[ 31 113 116 207 287 316 356 410 517 558 569 622 758 763 771 875 902 916\n",
      " 928 983]\n",
      "!! [ 31 113 116 207 287 316 356 410 517 558 569 622 758 763 771 875 902 916\n",
      " 928 983]\n"
     ]
    }
   ],
   "source": [
    "shellSort2(arr)\n",
    "print('!!',arr)"
   ]
  },
  {
   "cell_type": "code",
   "execution_count": null,
   "metadata": {},
   "outputs": [],
   "source": []
  }
 ],
 "metadata": {
  "kernelspec": {
   "display_name": "Python [conda env:py36] *",
   "language": "python",
   "name": "conda-env-py36-py"
  },
  "language_info": {
   "codemirror_mode": {
    "name": "ipython",
    "version": 3
   },
   "file_extension": ".py",
   "mimetype": "text/x-python",
   "name": "python",
   "nbconvert_exporter": "python",
   "pygments_lexer": "ipython3",
   "version": "3.6.7"
  }
 },
 "nbformat": 4,
 "nbformat_minor": 4
}
