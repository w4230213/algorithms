{
 "cells": [
  {
   "cell_type": "code",
   "execution_count": 5,
   "metadata": {},
   "outputs": [],
   "source": [
    "import numpy as np\n",
    "arr = np.random.randint(0,1000,20)"
   ]
  },
  {
   "cell_type": "code",
   "execution_count": 27,
   "metadata": {},
   "outputs": [],
   "source": [
    "def split(arr, lo, hi):\n",
    "    flag = arr[lo]\n",
    "    stop = False\n",
    "    leftmark = lo+1\n",
    "    rightmark = hi\n",
    "    while not stop:\n",
    "        while leftmark <= rightmark and arr[leftmark] <= flag:\n",
    "            leftmark += 1\n",
    "        while rightmark >= leftmark and arr[rightmark] >= flag:\n",
    "            rightmark -= 1\n",
    "        print('debug-->L:{}, R:{}'.format(leftmark, rightmark))\n",
    "        if leftmark > rightmark:\n",
    "            stop = True        \n",
    "        else:            \n",
    "            arr[leftmark], arr[rightmark] = arr[rightmark], arr[leftmark]\n",
    "    arr[lo], arr[rightmark] = arr[rightmark], arr[lo]\n",
    "    return rightmark"
   ]
  },
  {
   "cell_type": "code",
   "execution_count": 36,
   "metadata": {},
   "outputs": [],
   "source": [
    "def quickSort(arr):\n",
    "    _quickSort(arr, 0, len(arr)-1)\n",
    "    \n",
    "def _quickSort(arr, lo, hi):\n",
    "    print('lo:{},,hi:{}'.format(lo,hi))\n",
    "    if lo < hi:\n",
    "        partial = split(arr, lo, hi)\n",
    "        print('partial->{}'.format(partial))\n",
    "        _quickSort(arr, lo, partial-1)\n",
    "        _quickSort(arr, partial+1, hi)"
   ]
  },
  {
   "cell_type": "code",
   "execution_count": 37,
   "metadata": {},
   "outputs": [
    {
     "name": "stdout",
     "output_type": "stream",
     "text": [
      "lo:0,,hi:19\n",
      "debug-->L:1, R:19\n",
      "debug-->L:2, R:1\n",
      "partial->1\n",
      "lo:0,,hi:0\n",
      "lo:2,,hi:19\n",
      "debug-->L:3, R:19\n",
      "debug-->L:4, R:3\n",
      "partial->3\n",
      "lo:2,,hi:2\n",
      "lo:4,,hi:19\n",
      "debug-->L:5, R:19\n",
      "debug-->L:6, R:5\n",
      "partial->5\n",
      "lo:4,,hi:4\n",
      "lo:6,,hi:19\n",
      "debug-->L:7, R:19\n",
      "debug-->L:8, R:7\n",
      "partial->7\n",
      "lo:6,,hi:6\n",
      "lo:8,,hi:19\n",
      "debug-->L:9, R:19\n",
      "debug-->L:10, R:9\n",
      "partial->9\n",
      "lo:8,,hi:8\n",
      "lo:10,,hi:19\n",
      "debug-->L:11, R:19\n",
      "debug-->L:12, R:11\n",
      "partial->11\n",
      "lo:10,,hi:10\n",
      "lo:12,,hi:19\n",
      "debug-->L:13, R:19\n",
      "debug-->L:14, R:13\n",
      "partial->13\n",
      "lo:12,,hi:12\n",
      "lo:14,,hi:19\n",
      "debug-->L:15, R:19\n",
      "debug-->L:16, R:15\n",
      "partial->15\n",
      "lo:14,,hi:14\n",
      "lo:16,,hi:19\n",
      "debug-->L:17, R:19\n",
      "debug-->L:18, R:17\n",
      "partial->17\n",
      "lo:16,,hi:16\n",
      "lo:18,,hi:19\n",
      "debug-->L:20, R:19\n",
      "partial->19\n",
      "lo:18,,hi:18\n",
      "lo:20,,hi:19\n",
      "[ 29  58  81  93 195 225 237 244 246 276 331 343 347 508 870 924 926 937\n",
      " 942 975]\n"
     ]
    }
   ],
   "source": [
    "quickSort(arr)\n",
    "print(arr)"
   ]
  },
  {
   "cell_type": "code",
   "execution_count": null,
   "metadata": {},
   "outputs": [],
   "source": []
  }
 ],
 "metadata": {
  "kernelspec": {
   "display_name": "Python [conda env:py36] *",
   "language": "python",
   "name": "conda-env-py36-py"
  },
  "language_info": {
   "codemirror_mode": {
    "name": "ipython",
    "version": 3
   },
   "file_extension": ".py",
   "mimetype": "text/x-python",
   "name": "python",
   "nbconvert_exporter": "python",
   "pygments_lexer": "ipython3",
   "version": "3.6.7"
  }
 },
 "nbformat": 4,
 "nbformat_minor": 4
}
